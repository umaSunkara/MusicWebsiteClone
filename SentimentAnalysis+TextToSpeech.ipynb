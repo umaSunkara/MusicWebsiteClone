{
  "nbformat": 4,
  "nbformat_minor": 0,
  "metadata": {
    "colab": {
      "provenance": [],
      "authorship_tag": "ABX9TyNWqqpYwlJPag8Jfpk7uFYD",
      "include_colab_link": true
    },
    "kernelspec": {
      "name": "python3",
      "display_name": "Python 3"
    },
    "language_info": {
      "name": "python"
    }
  },
  "cells": [
    {
      "cell_type": "markdown",
      "metadata": {
        "id": "view-in-github",
        "colab_type": "text"
      },
      "source": [
        "<a href=\"https://colab.research.google.com/github/umaSunkara/MusicWebsiteClone/blob/master/SentimentAnalysis%2BTextToSpeech.ipynb\" target=\"_parent\"><img src=\"https://colab.research.google.com/assets/colab-badge.svg\" alt=\"Open In Colab\"/></a>"
      ]
    },
    {
      "cell_type": "code",
      "execution_count": 1,
      "metadata": {
        "colab": {
          "base_uri": "https://localhost:8080/"
        },
        "id": "8IBMkIHOONOq",
        "outputId": "e3d91cf1-0782-4f56-cd03-a6cedbfbbbca"
      },
      "outputs": [
        {
          "output_type": "stream",
          "name": "stdout",
          "text": [
            "Looking in indexes: https://pypi.org/simple, https://us-python.pkg.dev/colab-wheels/public/simple/\n",
            "Collecting gTTs\n",
            "  Downloading gTTS-2.2.4-py3-none-any.whl (26 kB)\n",
            "Requirement already satisfied: requests in /usr/local/lib/python3.7/dist-packages (from gTTs) (2.23.0)\n",
            "Requirement already satisfied: click in /usr/local/lib/python3.7/dist-packages (from gTTs) (7.1.2)\n",
            "Requirement already satisfied: six in /usr/local/lib/python3.7/dist-packages (from gTTs) (1.15.0)\n",
            "Requirement already satisfied: chardet<4,>=3.0.2 in /usr/local/lib/python3.7/dist-packages (from requests->gTTs) (3.0.4)\n",
            "Requirement already satisfied: idna<3,>=2.5 in /usr/local/lib/python3.7/dist-packages (from requests->gTTs) (2.10)\n",
            "Requirement already satisfied: certifi>=2017.4.17 in /usr/local/lib/python3.7/dist-packages (from requests->gTTs) (2022.9.24)\n",
            "Requirement already satisfied: urllib3!=1.25.0,!=1.25.1,<1.26,>=1.21.1 in /usr/local/lib/python3.7/dist-packages (from requests->gTTs) (1.24.3)\n",
            "Installing collected packages: gTTs\n",
            "Successfully installed gTTs-2.2.4\n"
          ]
        }
      ],
      "source": [
        "from nltk.sentiment.vader import SentimentIntensityAnalyzer\n",
        "!pip install gTTs"
      ]
    },
    {
      "cell_type": "code",
      "source": [
        "from gtts import gTTS\n",
        "import os\n",
        "language = 'en'\n",
        "from textblob import TextBlob"
      ],
      "metadata": {
        "id": "u-E599QROfsY"
      },
      "execution_count": 2,
      "outputs": []
    },
    {
      "cell_type": "code",
      "source": [
        "import nltk\n",
        "nltk.download('vader_lexicon')\n",
        "sentiment = SentimentIntensityAnalyzer()\n",
        "text =input(\"Enter a statement to analyse the sentiment: \")\n",
        "sent = sentiment.polarity_scores(text)\n",
        "print(\"Sentiment of text 1:\", sent)"
      ],
      "metadata": {
        "colab": {
          "base_uri": "https://localhost:8080/"
        },
        "id": "0QMq9dsnOgDx",
        "outputId": "d97c6b24-fb48-4331-ed11-0bbec94cbed7"
      },
      "execution_count": 4,
      "outputs": [
        {
          "output_type": "stream",
          "name": "stderr",
          "text": [
            "[nltk_data] Downloading package vader_lexicon to /root/nltk_data...\n"
          ]
        },
        {
          "output_type": "stream",
          "name": "stdout",
          "text": [
            "Enter a statement to analyse the sentiment: i am good\n",
            "Sentiment of text 1: {'neg': 0.0, 'neu': 0.256, 'pos': 0.744, 'compound': 0.4404}\n"
          ]
        }
      ]
    },
    {
      "cell_type": "code",
      "source": [
        "positive=sent['pos']\n",
        "negative=sent['neg']\n",
        "speech=''\n",
        "if positive>negative:\n",
        "  speech=\"Positive Emotion.\"\n",
        "elif negative>positive:\n",
        "  speech=\"Negative Sentiment\"\n",
        "else:\n",
        "  speech=\"Neutral Sentiment.\"\n",
        "print(speech)"
      ],
      "metadata": {
        "colab": {
          "base_uri": "https://localhost:8080/"
        },
        "id": "UjtW7fTdOgMp",
        "outputId": "94f5b97f-828d-4cec-f8c9-667b91860ec5"
      },
      "execution_count": 5,
      "outputs": [
        {
          "output_type": "stream",
          "name": "stdout",
          "text": [
            "Positive Emotion.\n"
          ]
        }
      ]
    },
    {
      "cell_type": "code",
      "source": [
        "myobj = gTTS(text=speech, lang=language, slow=False)\n",
        "myobj.save(\"review.mp3\")\n",
        "os.system(\"mpg321 review.mp3\")"
      ],
      "metadata": {
        "colab": {
          "base_uri": "https://localhost:8080/"
        },
        "id": "dhqk5QApPTcx",
        "outputId": "22b2762f-bf90-43ba-8a9d-23d4c4727df7"
      },
      "execution_count": 6,
      "outputs": [
        {
          "output_type": "execute_result",
          "data": {
            "text/plain": [
              "32512"
            ]
          },
          "metadata": {},
          "execution_count": 6
        }
      ]
    }
  ]
}